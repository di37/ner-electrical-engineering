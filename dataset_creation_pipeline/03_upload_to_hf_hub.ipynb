{
 "cells": [
  {
   "cell_type": "markdown",
   "metadata": {},
   "source": [
    "### Go to the main directory"
   ]
  },
  {
   "cell_type": "code",
   "execution_count": null,
   "metadata": {},
   "outputs": [],
   "source": [
    "%cd .."
   ]
  },
  {
   "cell_type": "markdown",
   "metadata": {},
   "source": [
    "### Importing Necessary Libraries"
   ]
  },
  {
   "cell_type": "code",
   "execution_count": 1,
   "metadata": {},
   "outputs": [],
   "source": [
    "import os \n",
    "from datasets import load_from_disk\n",
    "from dotenv import load_dotenv\n",
    "from huggingface_hub import login\n",
    "\n",
    "_ = load_dotenv()\n",
    "\n",
    "HF_TOKEN = os.getenv(\"HF_TOKEN\")\n",
    "login(token=HF_TOKEN)  # Get token from: https://huggingface.co/settings/tokens"
   ]
  },
  {
   "cell_type": "markdown",
   "metadata": {},
   "source": [
    "### Dataset Inspection"
   ]
  },
  {
   "cell_type": "code",
   "execution_count": 2,
   "metadata": {},
   "outputs": [
    {
     "name": "stdout",
     "output_type": "stream",
     "text": [
      "DatasetDict({\n",
      "    train: Dataset({\n",
      "        features: ['text', 'tokens', 'ner_tags'],\n",
      "        num_rows: 12076\n",
      "    })\n",
      "    validation: Dataset({\n",
      "        features: ['text', 'tokens', 'ner_tags'],\n",
      "        num_rows: 1509\n",
      "    })\n",
      "    test: Dataset({\n",
      "        features: ['text', 'tokens', 'ner_tags'],\n",
      "        num_rows: 1510\n",
      "    })\n",
      "})\n"
     ]
    }
   ],
   "source": [
    "ee_ner_dataset = load_from_disk(\"electrical_engineering_ner_dataset\")\n",
    "print(ee_ner_dataset)"
   ]
  },
  {
   "cell_type": "code",
   "execution_count": 3,
   "metadata": {},
   "outputs": [
    {
     "data": {
      "text/plain": [
       "{'train': (12076, 3), 'validation': (1509, 3), 'test': (1510, 3)}"
      ]
     },
     "execution_count": 3,
     "metadata": {},
     "output_type": "execute_result"
    }
   ],
   "source": [
    "ee_ner_dataset.shape"
   ]
  },
  {
   "cell_type": "code",
   "execution_count": 4,
   "metadata": {},
   "outputs": [
    {
     "data": {
      "text/plain": [
       "{'text': 'Using a Multimeter, the technician measured the 10 kΩ resistance of a Copper wire in the circuit.',\n",
       " 'tokens': ['Using',\n",
       "  'a',\n",
       "  'Multimeter',\n",
       "  ',',\n",
       "  'the',\n",
       "  'technician',\n",
       "  'measured',\n",
       "  'the',\n",
       "  '10',\n",
       "  'kΩ',\n",
       "  'resistance',\n",
       "  'of',\n",
       "  'a',\n",
       "  'Copper',\n",
       "  'wire',\n",
       "  'in',\n",
       "  'the',\n",
       "  'circuit',\n",
       "  '.'],\n",
       " 'ner_tags': [0, 0, 7, 0, 0, 0, 0, 0, 3, 4, 0, 0, 0, 5, 0, 0, 0, 0, 0]}"
      ]
     },
     "execution_count": 4,
     "metadata": {},
     "output_type": "execute_result"
    }
   ],
   "source": [
    "ee_ner_dataset[\"train\"][0]"
   ]
  },
  {
   "cell_type": "code",
   "execution_count": 5,
   "metadata": {},
   "outputs": [
    {
     "data": {
      "text/plain": [
       "Sequence(feature=ClassLabel(names=['O', 'B-COMPONENT', 'I-COMPONENT', 'B-DESIGN_PARAM', 'I-DESIGN_PARAM', 'B-MATERIAL', 'I-MATERIAL', 'B-EQUIPMENT', 'I-EQUIPMENT', 'B-TECHNOLOGY', 'I-TECHNOLOGY', 'B-SOFTWARE', 'I-SOFTWARE', 'B-STANDARD', 'I-STANDARD', 'B-VENDOR', 'I-VENDOR', 'B-PRODUCT', 'I-PRODUCT'], id=None), length=-1, id=None)"
      ]
     },
     "execution_count": 5,
     "metadata": {},
     "output_type": "execute_result"
    }
   ],
   "source": [
    "ee_ner_dataset[\"train\"].features[\"ner_tags\"]"
   ]
  },
  {
   "cell_type": "code",
   "execution_count": 6,
   "metadata": {},
   "outputs": [
    {
     "name": "stdout",
     "output_type": "stream",
     "text": [
      "This dataset contains annotated sentences from the electrical engineering domain.\n",
      "It includes annotations for components, parameters, materials, equipment, technologies,\n",
      "software, standards, vendors, and products using BIO tagging scheme.\n",
      "\n",
      "Tags:\n",
      "- B/I-COMPONENT: Electronic parts (resistors, capacitors, etc.)\n",
      "- B/I-DESIGN_PARAM: Measurements and parameters\n",
      "- B/I-MATERIAL: Materials used in electronics\n",
      "- B/I-EQUIPMENT: Test and measurement equipment\n",
      "- B/I-TECHNOLOGY: Systems and architectures\n",
      "- B/I-SOFTWARE: Software tools\n",
      "- B/I-STANDARD: Protocols and standards\n",
      "- B/I-VENDOR: Manufacturer names\n",
      "- B/I-PRODUCT: Product names\n",
      "- O: Non-entity tokens\n",
      "\n",
      "Note: This dataset is created using gpt-4o-mini and is only for research and education purposes. For production, it is highly recommended to use human-annotated data.\n",
      "\n"
     ]
    }
   ],
   "source": [
    "print(ee_ner_dataset['train'].description)"
   ]
  },
  {
   "cell_type": "markdown",
   "metadata": {},
   "source": [
    "### Uploading Dataset to HuggingFace Hub"
   ]
  },
  {
   "cell_type": "code",
   "execution_count": 7,
   "metadata": {},
   "outputs": [
    {
     "data": {
      "application/vnd.jupyter.widget-view+json": {
       "model_id": "710fa8d892434117b57c334d7ba53f22",
       "version_major": 2,
       "version_minor": 0
      },
      "text/plain": [
       "Uploading the dataset shards:   0%|          | 0/1 [00:00<?, ?it/s]"
      ]
     },
     "metadata": {},
     "output_type": "display_data"
    },
    {
     "data": {
      "application/vnd.jupyter.widget-view+json": {
       "model_id": "e9fe0bbb826640018c3cdc2f250eb95f",
       "version_major": 2,
       "version_minor": 0
      },
      "text/plain": [
       "Creating parquet from Arrow format:   0%|          | 0/13 [00:00<?, ?ba/s]"
      ]
     },
     "metadata": {},
     "output_type": "display_data"
    },
    {
     "data": {
      "application/vnd.jupyter.widget-view+json": {
       "model_id": "e6c6306ed21348b38ef43778f63ec7a2",
       "version_major": 2,
       "version_minor": 0
      },
      "text/plain": [
       "Uploading the dataset shards:   0%|          | 0/1 [00:00<?, ?it/s]"
      ]
     },
     "metadata": {},
     "output_type": "display_data"
    },
    {
     "data": {
      "application/vnd.jupyter.widget-view+json": {
       "model_id": "c752d1358e8e49f0bae6e5bc074a5386",
       "version_major": 2,
       "version_minor": 0
      },
      "text/plain": [
       "Creating parquet from Arrow format:   0%|          | 0/2 [00:00<?, ?ba/s]"
      ]
     },
     "metadata": {},
     "output_type": "display_data"
    },
    {
     "data": {
      "application/vnd.jupyter.widget-view+json": {
       "model_id": "c8228924f3c74a93b348f60d9f8b6239",
       "version_major": 2,
       "version_minor": 0
      },
      "text/plain": [
       "Uploading the dataset shards:   0%|          | 0/1 [00:00<?, ?it/s]"
      ]
     },
     "metadata": {},
     "output_type": "display_data"
    },
    {
     "data": {
      "application/vnd.jupyter.widget-view+json": {
       "model_id": "f8e1194a98484da4a6e2b0364f662189",
       "version_major": 2,
       "version_minor": 0
      },
      "text/plain": [
       "Creating parquet from Arrow format:   0%|          | 0/2 [00:00<?, ?ba/s]"
      ]
     },
     "metadata": {},
     "output_type": "display_data"
    },
    {
     "data": {
      "text/plain": [
       "CommitInfo(commit_url='https://huggingface.co/datasets/disham993/ElectricalNER/commit/d41536bde2ffe5b7bf559f15f6a743aac6e6c421', commit_message='Upload dataset', commit_description='', oid='d41536bde2ffe5b7bf559f15f6a743aac6e6c421', pr_url=None, repo_url=RepoUrl('https://huggingface.co/datasets/disham993/ElectricalNER', endpoint='https://huggingface.co', repo_type='dataset', repo_id='disham993/ElectricalNER'), pr_revision=None, pr_num=None)"
      ]
     },
     "execution_count": 7,
     "metadata": {},
     "output_type": "execute_result"
    }
   ],
   "source": [
    "# Push to hub with specific configurations\n",
    "ee_ner_dataset.push_to_hub(\n",
    "    repo_id=\"disham993/ElectricalNER\",  # e.g., \"johndoe/electrical-ner\"\n",
    "    private=False,  # Set to True if you want a private repository\n",
    ")"
   ]
  }
 ],
 "metadata": {
  "kernelspec": {
   "display_name": "Python 3",
   "language": "python",
   "name": "python3"
  },
  "language_info": {
   "codemirror_mode": {
    "name": "ipython",
    "version": 3
   },
   "file_extension": ".py",
   "mimetype": "text/x-python",
   "name": "python",
   "nbconvert_exporter": "python",
   "pygments_lexer": "ipython3",
   "version": "3.11.9"
  }
 },
 "nbformat": 4,
 "nbformat_minor": 2
}
