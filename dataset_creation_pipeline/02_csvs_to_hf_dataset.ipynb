{
 "cells": [
  {
   "cell_type": "markdown",
   "metadata": {},
   "source": [
    "### Importing Necessary Libraries"
   ]
  },
  {
   "cell_type": "code",
   "execution_count": 1,
   "metadata": {},
   "outputs": [],
   "source": [
    "import pandas as pd\n",
    "import glob\n",
    "import os \n",
    "import json"
   ]
  },
  {
   "cell_type": "markdown",
   "metadata": {},
   "source": [
    "### Loading the generated CSV files and combining into a single DataFrame"
   ]
  },
  {
   "cell_type": "code",
   "execution_count": 2,
   "metadata": {},
   "outputs": [],
   "source": [
    "def combine_csv_files_concise(directory='./ner_datasets'):\n",
    "    files = glob.glob(os.path.join(directory, 'ner_dataset_raw_batch_*.csv'))\n",
    "    combined_df = pd.concat([pd.read_csv(f) for f in files], ignore_index=True)\n",
    "    return combined_df\n",
    "\n",
    "df = combine_csv_files_concise()"
   ]
  },
  {
   "cell_type": "code",
   "execution_count": 3,
   "metadata": {},
   "outputs": [
    {
     "data": {
      "text/html": [
       "<div>\n",
       "<style scoped>\n",
       "    .dataframe tbody tr th:only-of-type {\n",
       "        vertical-align: middle;\n",
       "    }\n",
       "\n",
       "    .dataframe tbody tr th {\n",
       "        vertical-align: top;\n",
       "    }\n",
       "\n",
       "    .dataframe thead th {\n",
       "        text-align: right;\n",
       "    }\n",
       "</style>\n",
       "<table border=\"1\" class=\"dataframe\">\n",
       "  <thead>\n",
       "    <tr style=\"text-align: right;\">\n",
       "      <th></th>\n",
       "      <th>text</th>\n",
       "      <th>tokens</th>\n",
       "      <th>ner_tags</th>\n",
       "    </tr>\n",
       "  </thead>\n",
       "  <tbody>\n",
       "    <tr>\n",
       "      <th>0</th>\n",
       "      <td>To enhance the performance of the circuit, the...</td>\n",
       "      <td>['To', 'enhance', 'the', 'performance', 'of', ...</td>\n",
       "      <td>['O', 'O', 'O', 'O', 'O', 'O', 'O', 'O', 'O', ...</td>\n",
       "    </tr>\n",
       "    <tr>\n",
       "      <th>1</th>\n",
       "      <td>Using a Tektronix oscilloscope, the engineer m...</td>\n",
       "      <td>['Using', 'a', 'Tektronix', 'oscilloscope', ',...</td>\n",
       "      <td>['O', 'O', 'B-VENDOR', 'B-EQUIPMENT', 'O', 'O'...</td>\n",
       "    </tr>\n",
       "    <tr>\n",
       "      <th>2</th>\n",
       "      <td>While debugging the circuit, the engineer used...</td>\n",
       "      <td>['While', 'debugging', 'the', 'circuit', ',', ...</td>\n",
       "      <td>['O', 'O', 'O', 'O', 'O', 'O', 'O', 'O', 'O', ...</td>\n",
       "    </tr>\n",
       "    <tr>\n",
       "      <th>3</th>\n",
       "      <td>To verify the functionality of the Arduino boa...</td>\n",
       "      <td>['To', 'verify', 'the', 'functionality', 'of',...</td>\n",
       "      <td>['O', 'O', 'O', 'O', 'O', 'O', 'B-PRODUCT', 'O...</td>\n",
       "    </tr>\n",
       "    <tr>\n",
       "      <th>4</th>\n",
       "      <td>Using a spectrum analyzer, the technician test...</td>\n",
       "      <td>['Using', 'a', 'spectrum', 'analyzer', ',', 't...</td>\n",
       "      <td>['O', 'O', 'B-EQUIPMENT', 'I-EQUIPMENT', 'O', ...</td>\n",
       "    </tr>\n",
       "    <tr>\n",
       "      <th>...</th>\n",
       "      <td>...</td>\n",
       "      <td>...</td>\n",
       "      <td>...</td>\n",
       "    </tr>\n",
       "    <tr>\n",
       "      <th>15090</th>\n",
       "      <td>To improve the circuit's reliability, we utili...</td>\n",
       "      <td>['To', 'improve', 'the', \"circuit's\", 'reliabi...</td>\n",
       "      <td>['O', 'O', 'O', 'O', 'O', 'O', 'O', 'O', 'O', ...</td>\n",
       "    </tr>\n",
       "    <tr>\n",
       "      <th>15091</th>\n",
       "      <td>While testing the circuit with a 1000Ω resisto...</td>\n",
       "      <td>['While', 'testing', 'the', 'circuit', 'with',...</td>\n",
       "      <td>['O', 'O', 'O', 'O', 'O', 'O', 'B-DESIGN_PARAM...</td>\n",
       "    </tr>\n",
       "    <tr>\n",
       "      <th>15092</th>\n",
       "      <td>Using a Tektronix oscilloscope, the engineer m...</td>\n",
       "      <td>['Using', 'a', 'Tektronix', 'oscilloscope', ',...</td>\n",
       "      <td>['O', 'O', 'B-VENDOR', 'B-EQUIPMENT', 'O', 'O'...</td>\n",
       "    </tr>\n",
       "    <tr>\n",
       "      <th>15093</th>\n",
       "      <td>Using an Oscilloscope, she measured the 10V ou...</td>\n",
       "      <td>['Using', 'an', 'Oscilloscope', ',', 'she', 'm...</td>\n",
       "      <td>['O', 'O', 'B-EQUIPMENT', 'O', 'O', 'O', 'O', ...</td>\n",
       "    </tr>\n",
       "    <tr>\n",
       "      <th>15094</th>\n",
       "      <td>Using a Tektronix oscilloscope, I measured the...</td>\n",
       "      <td>['Using', 'a', 'Tektronix', 'oscilloscope', ',...</td>\n",
       "      <td>['O', 'O', 'B-VENDOR', 'B-EQUIPMENT', 'O', 'O'...</td>\n",
       "    </tr>\n",
       "  </tbody>\n",
       "</table>\n",
       "<p>15095 rows × 3 columns</p>\n",
       "</div>"
      ],
      "text/plain": [
       "                                                    text  \\\n",
       "0      To enhance the performance of the circuit, the...   \n",
       "1      Using a Tektronix oscilloscope, the engineer m...   \n",
       "2      While debugging the circuit, the engineer used...   \n",
       "3      To verify the functionality of the Arduino boa...   \n",
       "4      Using a spectrum analyzer, the technician test...   \n",
       "...                                                  ...   \n",
       "15090  To improve the circuit's reliability, we utili...   \n",
       "15091  While testing the circuit with a 1000Ω resisto...   \n",
       "15092  Using a Tektronix oscilloscope, the engineer m...   \n",
       "15093  Using an Oscilloscope, she measured the 10V ou...   \n",
       "15094  Using a Tektronix oscilloscope, I measured the...   \n",
       "\n",
       "                                                  tokens  \\\n",
       "0      ['To', 'enhance', 'the', 'performance', 'of', ...   \n",
       "1      ['Using', 'a', 'Tektronix', 'oscilloscope', ',...   \n",
       "2      ['While', 'debugging', 'the', 'circuit', ',', ...   \n",
       "3      ['To', 'verify', 'the', 'functionality', 'of',...   \n",
       "4      ['Using', 'a', 'spectrum', 'analyzer', ',', 't...   \n",
       "...                                                  ...   \n",
       "15090  ['To', 'improve', 'the', \"circuit's\", 'reliabi...   \n",
       "15091  ['While', 'testing', 'the', 'circuit', 'with',...   \n",
       "15092  ['Using', 'a', 'Tektronix', 'oscilloscope', ',...   \n",
       "15093  ['Using', 'an', 'Oscilloscope', ',', 'she', 'm...   \n",
       "15094  ['Using', 'a', 'Tektronix', 'oscilloscope', ',...   \n",
       "\n",
       "                                                ner_tags  \n",
       "0      ['O', 'O', 'O', 'O', 'O', 'O', 'O', 'O', 'O', ...  \n",
       "1      ['O', 'O', 'B-VENDOR', 'B-EQUIPMENT', 'O', 'O'...  \n",
       "2      ['O', 'O', 'O', 'O', 'O', 'O', 'O', 'O', 'O', ...  \n",
       "3      ['O', 'O', 'O', 'O', 'O', 'O', 'B-PRODUCT', 'O...  \n",
       "4      ['O', 'O', 'B-EQUIPMENT', 'I-EQUIPMENT', 'O', ...  \n",
       "...                                                  ...  \n",
       "15090  ['O', 'O', 'O', 'O', 'O', 'O', 'O', 'O', 'O', ...  \n",
       "15091  ['O', 'O', 'O', 'O', 'O', 'O', 'B-DESIGN_PARAM...  \n",
       "15092  ['O', 'O', 'B-VENDOR', 'B-EQUIPMENT', 'O', 'O'...  \n",
       "15093  ['O', 'O', 'B-EQUIPMENT', 'O', 'O', 'O', 'O', ...  \n",
       "15094  ['O', 'O', 'B-VENDOR', 'B-EQUIPMENT', 'O', 'O'...  \n",
       "\n",
       "[15095 rows x 3 columns]"
      ]
     },
     "execution_count": 3,
     "metadata": {},
     "output_type": "execute_result"
    }
   ],
   "source": [
    "df"
   ]
  },
  {
   "cell_type": "code",
   "execution_count": 4,
   "metadata": {},
   "outputs": [
    {
     "data": {
      "text/plain": [
       "233"
      ]
     },
     "execution_count": 4,
     "metadata": {},
     "output_type": "execute_result"
    }
   ],
   "source": [
    "df['text'].duplicated().sum()"
   ]
  },
  {
   "cell_type": "code",
   "execution_count": 5,
   "metadata": {},
   "outputs": [
    {
     "data": {
      "text/html": [
       "<div>\n",
       "<style scoped>\n",
       "    .dataframe tbody tr th:only-of-type {\n",
       "        vertical-align: middle;\n",
       "    }\n",
       "\n",
       "    .dataframe tbody tr th {\n",
       "        vertical-align: top;\n",
       "    }\n",
       "\n",
       "    .dataframe thead th {\n",
       "        text-align: right;\n",
       "    }\n",
       "</style>\n",
       "<table border=\"1\" class=\"dataframe\">\n",
       "  <thead>\n",
       "    <tr style=\"text-align: right;\">\n",
       "      <th></th>\n",
       "      <th>text</th>\n",
       "      <th>tokens</th>\n",
       "      <th>ner_tags</th>\n",
       "    </tr>\n",
       "  </thead>\n",
       "  <tbody>\n",
       "    <tr>\n",
       "      <th>0</th>\n",
       "      <td>To enhance the performance of the circuit, the...</td>\n",
       "      <td>['To', 'enhance', 'the', 'performance', 'of', ...</td>\n",
       "      <td>['O', 'O', 'O', 'O', 'O', 'O', 'O', 'O', 'O', ...</td>\n",
       "    </tr>\n",
       "    <tr>\n",
       "      <th>1</th>\n",
       "      <td>Using a Tektronix oscilloscope, the engineer m...</td>\n",
       "      <td>['Using', 'a', 'Tektronix', 'oscilloscope', ',...</td>\n",
       "      <td>['O', 'O', 'B-VENDOR', 'B-EQUIPMENT', 'O', 'O'...</td>\n",
       "    </tr>\n",
       "    <tr>\n",
       "      <th>2</th>\n",
       "      <td>While debugging the circuit, the engineer used...</td>\n",
       "      <td>['While', 'debugging', 'the', 'circuit', ',', ...</td>\n",
       "      <td>['O', 'O', 'O', 'O', 'O', 'O', 'O', 'O', 'O', ...</td>\n",
       "    </tr>\n",
       "  </tbody>\n",
       "</table>\n",
       "</div>"
      ],
      "text/plain": [
       "                                                text  \\\n",
       "0  To enhance the performance of the circuit, the...   \n",
       "1  Using a Tektronix oscilloscope, the engineer m...   \n",
       "2  While debugging the circuit, the engineer used...   \n",
       "\n",
       "                                              tokens  \\\n",
       "0  ['To', 'enhance', 'the', 'performance', 'of', ...   \n",
       "1  ['Using', 'a', 'Tektronix', 'oscilloscope', ',...   \n",
       "2  ['While', 'debugging', 'the', 'circuit', ',', ...   \n",
       "\n",
       "                                            ner_tags  \n",
       "0  ['O', 'O', 'O', 'O', 'O', 'O', 'O', 'O', 'O', ...  \n",
       "1  ['O', 'O', 'B-VENDOR', 'B-EQUIPMENT', 'O', 'O'...  \n",
       "2  ['O', 'O', 'O', 'O', 'O', 'O', 'O', 'O', 'O', ...  "
      ]
     },
     "execution_count": 5,
     "metadata": {},
     "output_type": "execute_result"
    }
   ],
   "source": [
    "df.head(n=3)"
   ]
  },
  {
   "cell_type": "markdown",
   "metadata": {},
   "source": [
    "### Converting the DataFrame to HuggingFace Dataset"
   ]
  },
  {
   "cell_type": "code",
   "execution_count": 6,
   "metadata": {},
   "outputs": [
    {
     "name": "stdout",
     "output_type": "stream",
     "text": [
      "Unique numeric tags in dataset: [0, 1, 2, 3, 4, 5, 6, 7, 8, 9, 10, 11, 12, 13, 14, 15, 16, 17, 18]\n"
     ]
    }
   ],
   "source": [
    "# Define the mapping\n",
    "label2id = {\n",
    "    \"O\": 0,\n",
    "    \"B-COMPONENT\": 1,\n",
    "    \"I-COMPONENT\": 2,\n",
    "    \"B-DESIGN_PARAM\": 3,\n",
    "    \"I-DESIGN_PARAM\": 4,\n",
    "    \"B-MATERIAL\": 5,\n",
    "    \"I-MATERIAL\": 6,\n",
    "    \"B-EQUIPMENT\": 7,\n",
    "    \"I-EQUIPMENT\": 8,\n",
    "    \"B-TECHNOLOGY\": 9,\n",
    "    \"I-TECHNOLOGY\": 10,\n",
    "    \"B-SOFTWARE\": 11,\n",
    "    \"I-SOFTWARE\": 12,\n",
    "    \"B-STANDARD\": 13,\n",
    "    \"I-STANDARD\": 14,\n",
    "    \"B-VENDOR\": 15,\n",
    "    \"I-VENDOR\": 16,\n",
    "    \"B-PRODUCT\": 17,\n",
    "    \"I-PRODUCT\": 18\n",
    "}\n",
    "\n",
    "# Convert tags to numbers with error handling\n",
    "def convert_tags_to_ids(tags):\n",
    "    return [label2id.get(tag, 0) for tag in tags]  # Returns 0 for any unknown tag\n",
    "\n",
    "# Apply the conversion\n",
    "df['ner_tags'] = df['ner_tags'].apply(eval)  # If needed\n",
    "df['ner_tags_numeric'] = df['ner_tags'].apply(convert_tags_to_ids)\n",
    "\n",
    "# Replace original column\n",
    "df['ner_tags'] = df['ner_tags_numeric']\n",
    "del df['ner_tags_numeric']\n",
    "\n",
    "# Print unique tags to verify conversion\n",
    "unique_tags = set([tag for tags in df['ner_tags'].tolist() for tag in tags])\n",
    "print(\"Unique numeric tags in dataset:\", sorted(unique_tags))"
   ]
  },
  {
   "cell_type": "markdown",
   "metadata": {},
   "source": [
    "Shuffling is critical for ensuring the quality, robustness, and generalizability of models trained on the dataset. It eliminates biases introduced by the order of data in the original files and prepares the dataset for realistic evaluation and deployment scenarios."
   ]
  },
  {
   "cell_type": "code",
   "execution_count": 7,
   "metadata": {},
   "outputs": [],
   "source": [
    "df = df.sample(frac=1, random_state=42).reset_index(drop=True)"
   ]
  },
  {
   "cell_type": "code",
   "execution_count": 8,
   "metadata": {},
   "outputs": [
    {
     "data": {
      "text/html": [
       "<div>\n",
       "<style scoped>\n",
       "    .dataframe tbody tr th:only-of-type {\n",
       "        vertical-align: middle;\n",
       "    }\n",
       "\n",
       "    .dataframe tbody tr th {\n",
       "        vertical-align: top;\n",
       "    }\n",
       "\n",
       "    .dataframe thead th {\n",
       "        text-align: right;\n",
       "    }\n",
       "</style>\n",
       "<table border=\"1\" class=\"dataframe\">\n",
       "  <thead>\n",
       "    <tr style=\"text-align: right;\">\n",
       "      <th></th>\n",
       "      <th>text</th>\n",
       "      <th>tokens</th>\n",
       "      <th>ner_tags</th>\n",
       "    </tr>\n",
       "  </thead>\n",
       "  <tbody>\n",
       "    <tr>\n",
       "      <th>0</th>\n",
       "      <td>Using a spectrum analyzer, we measured the fre...</td>\n",
       "      <td>['Using', 'a', 'spectrum', 'analyzer', ',', 'w...</td>\n",
       "      <td>[0, 0, 7, 8, 0, 0, 0, 0, 3, 0, 0, 0, 0, 0, 0, ...</td>\n",
       "    </tr>\n",
       "    <tr>\n",
       "      <th>1</th>\n",
       "      <td>To analyze the circuit's performance, the engi...</td>\n",
       "      <td>['To', 'analyze', 'the', \"circuit's\", 'perform...</td>\n",
       "      <td>[0, 0, 0, 0, 0, 0, 0, 0, 0, 0, 15, 7, 0, 0, 0,...</td>\n",
       "    </tr>\n",
       "    <tr>\n",
       "      <th>2</th>\n",
       "      <td>The team tested the circuit board using a Tekt...</td>\n",
       "      <td>['The', 'team', 'tested', 'the', 'circuit', 'b...</td>\n",
       "      <td>[0, 0, 0, 0, 0, 0, 0, 0, 15, 7, 0, 0, 0, 3, 0,...</td>\n",
       "    </tr>\n",
       "    <tr>\n",
       "      <th>3</th>\n",
       "      <td>During the testing phase, the team utilized a ...</td>\n",
       "      <td>['During', 'the', 'testing', 'phase', ',', 'th...</td>\n",
       "      <td>[0, 0, 0, 0, 0, 0, 0, 0, 0, 0, 7, 0, 0, 0, 3, ...</td>\n",
       "    </tr>\n",
       "    <tr>\n",
       "      <th>4</th>\n",
       "      <td>To enhance the efficiency of the circuit, we a...</td>\n",
       "      <td>['To', 'enhance', 'the', 'efficiency', 'of', '...</td>\n",
       "      <td>[0, 0, 0, 0, 0, 0, 0, 0, 0, 0, 0, 3, 1, 0, 0, ...</td>\n",
       "    </tr>\n",
       "    <tr>\n",
       "      <th>...</th>\n",
       "      <td>...</td>\n",
       "      <td>...</td>\n",
       "      <td>...</td>\n",
       "    </tr>\n",
       "    <tr>\n",
       "      <th>15090</th>\n",
       "      <td>During the installation of the FPGA module, we...</td>\n",
       "      <td>['During', 'the', 'installation', 'of', 'the',...</td>\n",
       "      <td>[0, 0, 0, 0, 0, 9, 0, 0, 0, 0, 0, 3, 0, 0, 0, ...</td>\n",
       "    </tr>\n",
       "    <tr>\n",
       "      <th>15091</th>\n",
       "      <td>To improve the circuit performance, we analyze...</td>\n",
       "      <td>['To', 'improve', 'the', 'circuit', 'performan...</td>\n",
       "      <td>[0, 0, 0, 0, 0, 0, 0, 0, 0, 3, 0, 0, 5, 0, 0, ...</td>\n",
       "    </tr>\n",
       "    <tr>\n",
       "      <th>15092</th>\n",
       "      <td>To ensure optimal performance, the circuit des...</td>\n",
       "      <td>['To', 'ensure', 'optimal', 'performance', 'th...</td>\n",
       "      <td>[0, 0, 0, 0, 0, 0, 0, 0, 0, 3, 4, 1, 0, 0, 0, ...</td>\n",
       "    </tr>\n",
       "    <tr>\n",
       "      <th>15093</th>\n",
       "      <td>During the troubleshooting phase, I used a Mul...</td>\n",
       "      <td>['During', 'the', 'troubleshooting', 'phase', ...</td>\n",
       "      <td>[0, 0, 0, 0, 0, 0, 0, 0, 7, 0, 0, 0, 3, 0, 0, ...</td>\n",
       "    </tr>\n",
       "    <tr>\n",
       "      <th>15094</th>\n",
       "      <td>Using the Arduino platform, the engineer measu...</td>\n",
       "      <td>['Using', 'the', 'Arduino', 'platform', ',', '...</td>\n",
       "      <td>[0, 0, 17, 0, 0, 0, 0, 0, 0, 3, 0, 3, 0, 0, 0,...</td>\n",
       "    </tr>\n",
       "  </tbody>\n",
       "</table>\n",
       "<p>15095 rows × 3 columns</p>\n",
       "</div>"
      ],
      "text/plain": [
       "                                                    text  \\\n",
       "0      Using a spectrum analyzer, we measured the fre...   \n",
       "1      To analyze the circuit's performance, the engi...   \n",
       "2      The team tested the circuit board using a Tekt...   \n",
       "3      During the testing phase, the team utilized a ...   \n",
       "4      To enhance the efficiency of the circuit, we a...   \n",
       "...                                                  ...   \n",
       "15090  During the installation of the FPGA module, we...   \n",
       "15091  To improve the circuit performance, we analyze...   \n",
       "15092  To ensure optimal performance, the circuit des...   \n",
       "15093  During the troubleshooting phase, I used a Mul...   \n",
       "15094  Using the Arduino platform, the engineer measu...   \n",
       "\n",
       "                                                  tokens  \\\n",
       "0      ['Using', 'a', 'spectrum', 'analyzer', ',', 'w...   \n",
       "1      ['To', 'analyze', 'the', \"circuit's\", 'perform...   \n",
       "2      ['The', 'team', 'tested', 'the', 'circuit', 'b...   \n",
       "3      ['During', 'the', 'testing', 'phase', ',', 'th...   \n",
       "4      ['To', 'enhance', 'the', 'efficiency', 'of', '...   \n",
       "...                                                  ...   \n",
       "15090  ['During', 'the', 'installation', 'of', 'the',...   \n",
       "15091  ['To', 'improve', 'the', 'circuit', 'performan...   \n",
       "15092  ['To', 'ensure', 'optimal', 'performance', 'th...   \n",
       "15093  ['During', 'the', 'troubleshooting', 'phase', ...   \n",
       "15094  ['Using', 'the', 'Arduino', 'platform', ',', '...   \n",
       "\n",
       "                                                ner_tags  \n",
       "0      [0, 0, 7, 8, 0, 0, 0, 0, 3, 0, 0, 0, 0, 0, 0, ...  \n",
       "1      [0, 0, 0, 0, 0, 0, 0, 0, 0, 0, 15, 7, 0, 0, 0,...  \n",
       "2      [0, 0, 0, 0, 0, 0, 0, 0, 15, 7, 0, 0, 0, 3, 0,...  \n",
       "3      [0, 0, 0, 0, 0, 0, 0, 0, 0, 0, 7, 0, 0, 0, 3, ...  \n",
       "4      [0, 0, 0, 0, 0, 0, 0, 0, 0, 0, 0, 3, 1, 0, 0, ...  \n",
       "...                                                  ...  \n",
       "15090  [0, 0, 0, 0, 0, 9, 0, 0, 0, 0, 0, 3, 0, 0, 0, ...  \n",
       "15091  [0, 0, 0, 0, 0, 0, 0, 0, 0, 3, 0, 0, 5, 0, 0, ...  \n",
       "15092  [0, 0, 0, 0, 0, 0, 0, 0, 0, 3, 4, 1, 0, 0, 0, ...  \n",
       "15093  [0, 0, 0, 0, 0, 0, 0, 0, 7, 0, 0, 0, 3, 0, 0, ...  \n",
       "15094  [0, 0, 17, 0, 0, 0, 0, 0, 0, 3, 0, 3, 0, 0, 0,...  \n",
       "\n",
       "[15095 rows x 3 columns]"
      ]
     },
     "execution_count": 8,
     "metadata": {},
     "output_type": "execute_result"
    }
   ],
   "source": [
    "df"
   ]
  },
  {
   "cell_type": "markdown",
   "metadata": {},
   "source": [
    "### Defining Dataset Features and Splits for Dataset"
   ]
  },
  {
   "cell_type": "code",
   "execution_count": 9,
   "metadata": {},
   "outputs": [
    {
     "name": "stdout",
     "output_type": "stream",
     "text": [
      "Features: {'text': Value(dtype='string', id=None), 'tokens': Sequence(feature=Value(dtype='string', id=None), length=-1, id=None), 'ner_tags': Sequence(feature=ClassLabel(names=['O', 'B-COMPONENT', 'I-COMPONENT', 'B-DESIGN_PARAM', 'I-DESIGN_PARAM', 'B-MATERIAL', 'I-MATERIAL', 'B-EQUIPMENT', 'I-EQUIPMENT', 'B-TECHNOLOGY', 'I-TECHNOLOGY', 'B-SOFTWARE', 'I-SOFTWARE', 'B-STANDARD', 'I-STANDARD', 'B-VENDOR', 'I-VENDOR', 'B-PRODUCT', 'I-PRODUCT'], id=None), length=-1, id=None)}\n"
     ]
    }
   ],
   "source": [
    "from datasets import Dataset, DatasetDict, Features, ClassLabel, Sequence, Value, DatasetInfo\n",
    "\n",
    "# Define your labels\n",
    "label_names = [\"O\", \"B-COMPONENT\", \"I-COMPONENT\", \"B-DESIGN_PARAM\", \"I-DESIGN_PARAM\", \"B-MATERIAL\", \"I-MATERIAL\" \"B-EQUIPMENT\", \"I-EQUIPMENT\", \"B-TECHNOLOGY\", \"I-TECHNOLOGY\", \"B-SOFTWARE\", \"I-SOFTWARE\", \"B-STANDARD\", \"I-STANDARD\" \"B-VENDOR\", \"I-VENDOR\", \"B-PRODUCT\", \"I-PRODUCT\"]\n",
    "\n",
    "# Define features\n",
    "features = Features({\n",
    "    'text': Value('string'),\n",
    "    'tokens': Sequence(Value('string')),\n",
    "    'ner_tags': Sequence(ClassLabel(num_classes=len(label_names), names=label_names))\n",
    "})\n",
    "\n",
    "# Add info about the dataset\n",
    "description = \"\"\"This dataset contains annotated sentences from the electrical engineering domain.\n",
    "It includes annotations for components, parameters, materials, equipment, technologies,\n",
    "software, standards, vendors, and products using BIO tagging scheme.\n",
    "\n",
    "Tags:\n",
    "- B/I-COMPONENT: Electronic parts (resistors, capacitors, etc.)\n",
    "- B/I-DESIGN_PARAM: Measurements and parameters\n",
    "- B/I-MATERIAL: Materials used in electronics\n",
    "- B/I-EQUIPMENT: Test and measurement equipment\n",
    "- B/I-TECHNOLOGY: Systems and architectures\n",
    "- B/I-SOFTWARE: Software tools\n",
    "- B/I-STANDARD: Protocols and standards\n",
    "- B/I-VENDOR: Manufacturer names\n",
    "- B/I-PRODUCT: Product names\n",
    "- O: Non-entity tokens\n",
    "\n",
    "Note: This dataset is created using gpt-4o-mini and is only for research and education purposes. For production, it is highly recommended to use human-annotated data.\n",
    "\"\"\"\n",
    "\n",
    "# Create a DatasetInfo object\n",
    "my_dataset_info = DatasetInfo(\n",
    "    description=description,\n",
    "    dataset_name=\"Electrical Engineering Named Entity Recognition Dataset\",\n",
    "    features=features,\n",
    ")\n",
    "\n",
    "# Create dataset with features\n",
    "dataset = Dataset.from_dict(\n",
    "    {\n",
    "        'text': df['text'].tolist(),\n",
    "        'tokens': df['tokens'].apply(eval).tolist(),\n",
    "        'ner_tags': df['ner_tags'].tolist()\n",
    "    },\n",
    "    info=my_dataset_info\n",
    ")\n",
    "\n",
    "# Create splits\n",
    "dataset = dataset.train_test_split(test_size=0.2, seed=42)\n",
    "test_valid = dataset['test'].train_test_split(test_size=0.5, seed=42)\n",
    "\n",
    "# Create final dataset dictionary\n",
    "hf_dataset = DatasetDict({\n",
    "    'train': dataset['train'],\n",
    "    'validation': test_valid['train'],\n",
    "    'test': test_valid['test']\n",
    "})\n",
    "\n",
    "# Print to verify\n",
    "print(\"Features:\", hf_dataset['train'].features)\n",
    "# print(\"\\nDescription:\", hf_dataset.info.description)"
   ]
  },
  {
   "cell_type": "code",
   "execution_count": 10,
   "metadata": {},
   "outputs": [
    {
     "data": {
      "text/plain": [
       "{'text': 'Using a Multimeter, the technician measured the 10 kΩ resistance of a Copper wire in the circuit.',\n",
       " 'tokens': ['Using',\n",
       "  'a',\n",
       "  'Multimeter',\n",
       "  ',',\n",
       "  'the',\n",
       "  'technician',\n",
       "  'measured',\n",
       "  'the',\n",
       "  '10',\n",
       "  'kΩ',\n",
       "  'resistance',\n",
       "  'of',\n",
       "  'a',\n",
       "  'Copper',\n",
       "  'wire',\n",
       "  'in',\n",
       "  'the',\n",
       "  'circuit',\n",
       "  '.'],\n",
       " 'ner_tags': [0, 0, 7, 0, 0, 0, 0, 0, 3, 4, 0, 0, 0, 5, 0, 0, 0, 0, 0]}"
      ]
     },
     "execution_count": 10,
     "metadata": {},
     "output_type": "execute_result"
    }
   ],
   "source": [
    "hf_dataset[\"train\"][0]"
   ]
  },
  {
   "cell_type": "code",
   "execution_count": 11,
   "metadata": {},
   "outputs": [
    {
     "data": {
      "text/plain": [
       "Sequence(feature=ClassLabel(names=['O', 'B-COMPONENT', 'I-COMPONENT', 'B-DESIGN_PARAM', 'I-DESIGN_PARAM', 'B-MATERIAL', 'I-MATERIAL', 'B-EQUIPMENT', 'I-EQUIPMENT', 'B-TECHNOLOGY', 'I-TECHNOLOGY', 'B-SOFTWARE', 'I-SOFTWARE', 'B-STANDARD', 'I-STANDARD', 'B-VENDOR', 'I-VENDOR', 'B-PRODUCT', 'I-PRODUCT'], id=None), length=-1, id=None)"
      ]
     },
     "execution_count": 11,
     "metadata": {},
     "output_type": "execute_result"
    }
   ],
   "source": [
    "hf_dataset[\"train\"].features[\"ner_tags\"]"
   ]
  },
  {
   "cell_type": "code",
   "execution_count": 12,
   "metadata": {},
   "outputs": [
    {
     "name": "stdout",
     "output_type": "stream",
     "text": [
      "This dataset contains annotated sentences from the electrical engineering domain.\n",
      "It includes annotations for components, parameters, materials, equipment, technologies,\n",
      "software, standards, vendors, and products using BIO tagging scheme.\n",
      "\n",
      "Tags:\n",
      "- B/I-COMPONENT: Electronic parts (resistors, capacitors, etc.)\n",
      "- B/I-DESIGN_PARAM: Measurements and parameters\n",
      "- B/I-MATERIAL: Materials used in electronics\n",
      "- B/I-EQUIPMENT: Test and measurement equipment\n",
      "- B/I-TECHNOLOGY: Systems and architectures\n",
      "- B/I-SOFTWARE: Software tools\n",
      "- B/I-STANDARD: Protocols and standards\n",
      "- B/I-VENDOR: Manufacturer names\n",
      "- B/I-PRODUCT: Product names\n",
      "- O: Non-entity tokens\n",
      "\n",
      "Note: This dataset is created using gpt-4o-mini and is only for research and education purposes. For production, it is highly recommended to use human-annotated data.\n",
      "\n"
     ]
    }
   ],
   "source": [
    "print(hf_dataset['train'].description)"
   ]
  },
  {
   "cell_type": "code",
   "execution_count": 13,
   "metadata": {},
   "outputs": [
    {
     "data": {
      "text/plain": [
       "DatasetDict({\n",
       "    train: Dataset({\n",
       "        features: ['text', 'tokens', 'ner_tags'],\n",
       "        num_rows: 12076\n",
       "    })\n",
       "    validation: Dataset({\n",
       "        features: ['text', 'tokens', 'ner_tags'],\n",
       "        num_rows: 1509\n",
       "    })\n",
       "    test: Dataset({\n",
       "        features: ['text', 'tokens', 'ner_tags'],\n",
       "        num_rows: 1510\n",
       "    })\n",
       "})"
      ]
     },
     "execution_count": 13,
     "metadata": {},
     "output_type": "execute_result"
    }
   ],
   "source": [
    "hf_dataset"
   ]
  },
  {
   "cell_type": "markdown",
   "metadata": {},
   "source": [
    "### Saving the Dataset"
   ]
  },
  {
   "cell_type": "code",
   "execution_count": 14,
   "metadata": {},
   "outputs": [
    {
     "data": {
      "application/vnd.jupyter.widget-view+json": {
       "model_id": "fe9ed0eced29459d94338fcc02167244",
       "version_major": 2,
       "version_minor": 0
      },
      "text/plain": [
       "Saving the dataset (0/1 shards):   0%|          | 0/12076 [00:00<?, ? examples/s]"
      ]
     },
     "metadata": {},
     "output_type": "display_data"
    },
    {
     "data": {
      "application/vnd.jupyter.widget-view+json": {
       "model_id": "771309c76b8147f98e1e08a14df82c22",
       "version_major": 2,
       "version_minor": 0
      },
      "text/plain": [
       "Saving the dataset (0/1 shards):   0%|          | 0/1509 [00:00<?, ? examples/s]"
      ]
     },
     "metadata": {},
     "output_type": "display_data"
    },
    {
     "data": {
      "application/vnd.jupyter.widget-view+json": {
       "model_id": "7a69675d2cb047218949b23044a143fb",
       "version_major": 2,
       "version_minor": 0
      },
      "text/plain": [
       "Saving the dataset (0/1 shards):   0%|          | 0/1510 [00:00<?, ? examples/s]"
      ]
     },
     "metadata": {},
     "output_type": "display_data"
    }
   ],
   "source": [
    "# Suppose you have a Dataset or DatasetDict called 'hf_dataset'\n",
    "hf_dataset.save_to_disk(\"electrical_engineering_ner_dataset\")"
   ]
  }
 ],
 "metadata": {
  "kernelspec": {
   "display_name": "image_classification",
   "language": "python",
   "name": "python3"
  },
  "language_info": {
   "codemirror_mode": {
    "name": "ipython",
    "version": 3
   },
   "file_extension": ".py",
   "mimetype": "text/x-python",
   "name": "python",
   "nbconvert_exporter": "python",
   "pygments_lexer": "ipython3",
   "version": "3.12.7"
  }
 },
 "nbformat": 4,
 "nbformat_minor": 2
}
